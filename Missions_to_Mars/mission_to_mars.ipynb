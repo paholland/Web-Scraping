{
 "cells": [
  {
   "cell_type": "code",
   "execution_count": null,
   "metadata": {},
   "outputs": [],
   "source": [
    "# J.Notebook is used to complete all scraping and analysis tasks for this project\n",
    "\n",
    "# https://mars.nasa.gov/news/\n",
    "# https://www.jpl.nasa.gov/spaceimages/?search=&category=Mars\n",
    "# https://twitter.com/marswxreport?lang=en\n",
    "# https://space-facts.com/mars/\n",
    "# https://astrogeology.usgs.gov/  "
   ]
  },
  {
   "cell_type": "code",
   "execution_count": null,
   "metadata": {},
   "outputs": [],
   "source": [
    "!pip install splinter"
   ]
  },
  {
   "cell_type": "code",
   "execution_count": 1,
   "metadata": {},
   "outputs": [],
   "source": [
    "# Dependencies\n",
    "import pandas as pd\n",
    "from bs4 import BeautifulSoup\n",
    "from splinter import Browser\n",
    "import os\n",
    "import time\n",
    "import requests"
   ]
  },
  {
   "cell_type": "code",
   "execution_count": 2,
   "metadata": {},
   "outputs": [],
   "source": [
    "executable_path = {\"executable_path\": \"chromedriver.exe\"}\n",
    "browser = Browser(\"chrome\", **executable_path, headless=False)"
   ]
  },
  {
   "cell_type": "code",
   "execution_count": 3,
   "metadata": {},
   "outputs": [],
   "source": [
    "#NASA Mars News\n",
    "#Scrape the NASA Mars News Site and collect the latest News Title \n",
    "#and Paragraph Text. Assign the text to variables that you can reference later."
   ]
  },
  {
   "cell_type": "code",
   "execution_count": 4,
   "metadata": {},
   "outputs": [],
   "source": [
    "#web url to scrape: news titles and paragraphs\n",
    "mtm_url_one = 'http://mars.nasa.gov/news'\n",
    "browser.visit(mtm_url_one)\n",
    "time.sleep(5)"
   ]
  },
  {
   "cell_type": "code",
   "execution_count": 5,
   "metadata": {},
   "outputs": [],
   "source": [
    "#html page with browser and bs object\n",
    "mtm_url_one_html = browser.html\n",
    "mtm_data_soup_site1 = BeautifulSoup(mtm_url_one_html, 'html.parser')\n",
    "time.sleep(2)"
   ]
  },
  {
   "cell_type": "code",
   "execution_count": null,
   "metadata": {},
   "outputs": [],
   "source": [
    "step1 = mtm_data_soup_site1.find('ul', class_='item_list')\n",
    "step2 = step1.find('li', class_='slide')\n",
    "title = step2.find('div', class_='content_title').text\n",
    "title"
   ]
  },
  {
   "cell_type": "code",
   "execution_count": null,
   "metadata": {},
   "outputs": [],
   "source": [
    "news_title =  mtm_data_soup_site1.find('ul',class_= 'item_list').find('li', class_=\"slide\").find('div',class_='content_title').text\n",
    "    \n",
    "print(f\"Title:  {news_title}\")\n",
    "    \n",
    "\n"
   ]
  },
  {
   "cell_type": "code",
   "execution_count": null,
   "metadata": {},
   "outputs": [],
   "source": [
    "news_p = mtm_data_soup_site1.find('ul', class_='item_list').find('li',class_='slide').find('div',class_='article_teaser_body').text \n",
    "                                                                        \n",
    "                                                                                                                                      \n",
    "print(f\"Paragraph Text:  {news_p}\")\n",
    "    "
   ]
  },
  {
   "cell_type": "code",
   "execution_count": 11,
   "metadata": {},
   "outputs": [
    {
     "name": "stdout",
     "output_type": "stream",
     "text": [
      "'NoneType' object has no attribute 'find'\n"
     ]
    }
   ],
   "source": [
    "#scrape the NASA Mars news and collect\n",
    "try:\n",
    "\n",
    "    news_title = mtm_data_soup_site1.find('ul',class_= 'item_list').find('li', class_=\"slide\").find('div',class_='content_title').text\n",
    "    \n",
    "    print(f\"Title:  {news_title}\")\n",
    "    \n",
    "    news_p = mtm_data_soup_site1.find('ul', class_='item_list').find('li',class_='slide').find('div',class_='article_teaser_body').text \n",
    "                                                                        \n",
    "                                                                                                                                      \n",
    "    print(f\"Paragraph Text:  {news_p}\")\n",
    "    \n",
    "    \n",
    "except AttributeError as attributeerror:\n",
    "    print(attributeerror) \n",
    "          \n"
   ]
  },
  {
   "cell_type": "code",
   "execution_count": 12,
   "metadata": {},
   "outputs": [],
   "source": [
    "# JPL Mars Space Images - Featured Image"
   ]
  },
  {
   "cell_type": "code",
   "execution_count": 13,
   "metadata": {},
   "outputs": [],
   "source": [
    "## Visit the url for JPL Featured Space Image/page to scrape: image\n",
    "mtm_url_two= 'https://www.jpl.nasa.gov/spaceimages/?search=&category=Mars'\n",
    "browser.visit(mtm_url_two)\n",
    "time.sleep(5)"
   ]
  },
  {
   "cell_type": "code",
   "execution_count": 14,
   "metadata": {},
   "outputs": [],
   "source": [
    "#find the image url to the full size .jpg image\n",
    "full_image_found= browser.find_by_id('full_image')\n",
    "full_image_found.click()"
   ]
  },
  {
   "cell_type": "code",
   "execution_count": 15,
   "metadata": {},
   "outputs": [],
   "source": [
    "# Use splinter to navigate the site and find the image url for the current Featured Mars Image and assign the url string to a variable called featured_image_url.\n",
    "time.sleep(2)\n",
    "more_data= browser.links.find_by_partial_text('more info')\n",
    "\n",
    "# more_data = browser.click_link_by_partial_text('more info')\n",
    "more_data.click()"
   ]
  },
  {
   "cell_type": "code",
   "execution_count": 16,
   "metadata": {},
   "outputs": [],
   "source": [
    "#html page with browser and bs object\n",
    "mtm_url_two_html = browser.html\n",
    "mtm_data_soup_site2 = BeautifulSoup(mtm_url_two_html,'html.parser')"
   ]
  },
  {
   "cell_type": "code",
   "execution_count": 17,
   "metadata": {},
   "outputs": [
    {
     "name": "stdout",
     "output_type": "stream",
     "text": [
      "Featured image:/spaceimages/images/largesize/PIA12831_hires.jpg\n"
     ]
    }
   ],
   "source": [
    "#scrape the featured image \n",
    "try:\n",
    "\n",
    "    featured_image_url = mtm_data_soup_site2.find('figure', class_= \"lede\").a['href']\n",
    "#featured_image_url = mtm_data_soup_site2.find('figure', class_= \"lede\").\n",
    "    \n",
    "    print(f\"Featured image:{featured_image_url}\")\n",
    "    \n",
    "    \n",
    "except AttributeError as attr:\n",
    "     print(attr) "
   ]
  },
  {
   "cell_type": "code",
   "execution_count": 18,
   "metadata": {},
   "outputs": [
    {
     "name": "stdout",
     "output_type": "stream",
     "text": [
      "https://www.jpl.nasa.gov/spaceimages/images/largesize/PIA12831_hires.jpg\n"
     ]
    }
   ],
   "source": [
    "# save a complete url string for the full size .jpg image\n",
    "complete_url = 'https://www.jpl.nasa.gov' + featured_image_url\n",
    "print(complete_url)"
   ]
  },
  {
   "cell_type": "markdown",
   "metadata": {},
   "source": [
    "# Twitter"
   ]
  },
  {
   "cell_type": "code",
   "execution_count": 19,
   "metadata": {},
   "outputs": [],
   "source": [
    "# Mars Weather\n",
    "\n",
    "# Note: Be sure you are not signed in to twitter, or scraping may become more difficult.\n",
    "# Note: Twitter frequently changes how information is presented on their website. If you are having difficulty getting the correct html tag data, consider researching Regular Expression Patterns and how they can be used in combination with the .find() method."
   ]
  },
  {
   "cell_type": "code",
   "execution_count": 20,
   "metadata": {},
   "outputs": [],
   "source": [
    "# Visit the Mars Weather twitter account here and scrape the latest Mars weather tweet from the page. Save the tweet text for the weather report as a variable called mars_weather.\n",
    "# web url to scrape: Mars weather tweet\n",
    "mtm_url_three= 'https://twitter.com/marswxreport?lang=en'\n",
    "browser.visit(mtm_url_three)"
   ]
  },
  {
   "cell_type": "code",
   "execution_count": 21,
   "metadata": {},
   "outputs": [],
   "source": [
    "# html page with browser and bs object\n",
    "mtm_url_three_html = browser.html\n",
    "mtm_data_soup_site3 = BeautifulSoup(mtm_url_three_html, 'html.parser')\n",
    "time.sleep(2)"
   ]
  },
  {
   "cell_type": "code",
   "execution_count": 22,
   "metadata": {},
   "outputs": [
    {
     "data": {
      "text/plain": [
       "'InSight sol 587 (2020-07-21) low -89.2ºC (-128.5ºF) high -9.8ºC (14.3ºF)\\nwinds from the WNW at 5.3 m/s (11.8 mph) gusting to 14.1 m/s (31.5 mph)\\npressure at 7.80 hPa'"
      ]
     },
     "execution_count": 22,
     "metadata": {},
     "output_type": "execute_result"
    }
   ],
   "source": [
    "# re module helps to specify the rules for the set of possible strings that we want to match\n",
    "import re\n",
    "#find the tweet under data-name\n",
    "result = mtm_data_soup_site3.find('div', attrs={\"class\": \"tweet\", \"data-name\": \"Mars Weather\"})\n",
    "\n",
    "try:\n",
    "    result1 = result.find(\"p\", \"tweet-text\").get_text()\n",
    "    result1\n",
    "\n",
    "except AttributeError:\n",
    "\n",
    "    pattern = re.compile(r'sol')\n",
    "    result1 = mtm_data_soup_site3.find('span', text=pattern).text\n",
    "    result1\n",
    "\n",
    "result1"
   ]
  },
  {
   "cell_type": "code",
   "execution_count": 23,
   "metadata": {},
   "outputs": [
    {
     "data": {
      "text/html": [
       "<div>\n",
       "<style scoped>\n",
       "    .dataframe tbody tr th:only-of-type {\n",
       "        vertical-align: middle;\n",
       "    }\n",
       "\n",
       "    .dataframe tbody tr th {\n",
       "        vertical-align: top;\n",
       "    }\n",
       "\n",
       "    .dataframe thead th {\n",
       "        text-align: right;\n",
       "    }\n",
       "</style>\n",
       "<table border=\"1\" class=\"dataframe\">\n",
       "  <thead>\n",
       "    <tr style=\"text-align: right;\">\n",
       "      <th></th>\n",
       "      <th></th>\n",
       "      <th>value</th>\n",
       "    </tr>\n",
       "  </thead>\n",
       "  <tbody>\n",
       "    <tr>\n",
       "      <td>0</td>\n",
       "      <td>Equatorial Diameter:</td>\n",
       "      <td>6,792 km</td>\n",
       "    </tr>\n",
       "    <tr>\n",
       "      <td>1</td>\n",
       "      <td>Polar Diameter:</td>\n",
       "      <td>6,752 km</td>\n",
       "    </tr>\n",
       "    <tr>\n",
       "      <td>2</td>\n",
       "      <td>Mass:</td>\n",
       "      <td>6.39 × 10^23 kg (0.11 Earths)</td>\n",
       "    </tr>\n",
       "    <tr>\n",
       "      <td>3</td>\n",
       "      <td>Moons:</td>\n",
       "      <td>2 (Phobos &amp; Deimos)</td>\n",
       "    </tr>\n",
       "    <tr>\n",
       "      <td>4</td>\n",
       "      <td>Orbit Distance:</td>\n",
       "      <td>227,943,824 km (1.38 AU)</td>\n",
       "    </tr>\n",
       "    <tr>\n",
       "      <td>5</td>\n",
       "      <td>Orbit Period:</td>\n",
       "      <td>687 days (1.9 years)</td>\n",
       "    </tr>\n",
       "    <tr>\n",
       "      <td>6</td>\n",
       "      <td>Surface Temperature:</td>\n",
       "      <td>-87 to -5 °C</td>\n",
       "    </tr>\n",
       "    <tr>\n",
       "      <td>7</td>\n",
       "      <td>First Record:</td>\n",
       "      <td>2nd millennium BC</td>\n",
       "    </tr>\n",
       "    <tr>\n",
       "      <td>8</td>\n",
       "      <td>Recorded By:</td>\n",
       "      <td>Egyptian astronomers</td>\n",
       "    </tr>\n",
       "  </tbody>\n",
       "</table>\n",
       "</div>"
      ],
      "text/plain": [
       "                                                 value\n",
       "0  Equatorial Diameter:                       6,792 km\n",
       "1       Polar Diameter:                       6,752 km\n",
       "2                 Mass:  6.39 × 10^23 kg (0.11 Earths)\n",
       "3                Moons:            2 (Phobos & Deimos)\n",
       "4       Orbit Distance:       227,943,824 km (1.38 AU)\n",
       "5         Orbit Period:           687 days (1.9 years)\n",
       "6  Surface Temperature:                   -87 to -5 °C\n",
       "7         First Record:              2nd millennium BC\n",
       "8          Recorded By:           Egyptian astronomers"
      ]
     },
     "execution_count": 23,
     "metadata": {},
     "output_type": "execute_result"
    }
   ],
   "source": [
    "# Mars Facts\n",
    "\n",
    "# Visit the Mars Facts webpage here and use Pandas to scrape the table containing facts about the planet \n",
    "# including Diameter, Mass, etc.\n",
    "mtm_url_four = 'https://space-facts.com/mars/'\n",
    "df = pd.read_html(mtm_url_four)[0]\n",
    "df.head()\n",
    "    \n",
    "df.columns =['','value']\n",
    "df\n"
   ]
  },
  {
   "cell_type": "code",
   "execution_count": 24,
   "metadata": {},
   "outputs": [],
   "source": [
    "# Use Pandas to convert the data to a HTML table string\n",
    "df.to_html('Mtm_Facts.html', index=False)\n"
   ]
  },
  {
   "cell_type": "markdown",
   "metadata": {},
   "source": [
    "# Hemispheres\n"
   ]
  },
  {
   "cell_type": "code",
   "execution_count": 25,
   "metadata": {},
   "outputs": [],
   "source": [
    "# Mars Hemispheres\n",
    "\n",
    "# Visit the USGS Astrogeology site here to obtain high resolution images for each of Mar's hemispheres.\n",
    "# mtm_url_five = 'https://astrogeology.usgs.gov/search/results?q=hemisphere+enhanced&k1=target&v1=Mars'\n",
    "# browser.visit(mtm_url_five)"
   ]
  },
  {
   "cell_type": "code",
   "execution_count": 26,
   "metadata": {},
   "outputs": [],
   "source": [
    "# You will need to click each of the links to the hemispheres in order to find the image url to the full resolution image.\n",
    "# Save both the image url string for the full resolution hemisphere image, and the Hemisphere title containing the hemisphere name. \n"
   ]
  },
  {
   "cell_type": "code",
   "execution_count": 27,
   "metadata": {},
   "outputs": [
    {
     "name": "stdout",
     "output_type": "stream",
     "text": [
      "Cerberus Hemisphere Enhanced  /search/map/Mars/Viking/cerberus_enhanced\n",
      "Schiaparelli Hemisphere Enhanced  /search/map/Mars/Viking/schiaparelli_enhanced\n",
      "Syrtis Major Hemisphere Enhanced  /search/map/Mars/Viking/syrtis_major_enhanced\n",
      "Valles Marineris Hemisphere Enhanced  /search/map/Mars/Viking/valles_marineris_enhanced\n"
     ]
    }
   ],
   "source": [
    "url = 'https://astrogeology.usgs.gov/search/results?q=hemisphere+enhanced&k1=target&v1=Mars'\n",
    "response = requests.get(url)\n",
    "soup = BeautifulSoup(response.text, 'html.parser').find_all(\"a\",class_ = \"itemLink product-item\")\n",
    "hemi_titles = []\n",
    "for i in soup:\n",
    "    title = i.find(\"h3\").text\n",
    "    link= i[\"href\"] \n",
    "    # or i.a[\"href\"]\n",
    "    hemi_titles.append(title)\n",
    "    print(title,\"\",link)"
   ]
  },
  {
   "cell_type": "code",
   "execution_count": 28,
   "metadata": {},
   "outputs": [
    {
     "data": {
      "text/plain": [
       "['Cerberus Hemisphere Enhanced',\n",
       " 'Schiaparelli Hemisphere Enhanced',\n",
       " 'Syrtis Major Hemisphere Enhanced',\n",
       " 'Valles Marineris Hemisphere Enhanced']"
      ]
     },
     "execution_count": 28,
     "metadata": {},
     "output_type": "execute_result"
    }
   ],
   "source": [
    "hemi_titles"
   ]
  },
  {
   "cell_type": "code",
   "execution_count": 30,
   "metadata": {},
   "outputs": [],
   "source": [
    "mtm_url_five = 'https://astrogeology.usgs.gov/search/results?q=hemisphere+enhanced&k1=target&v1=Mars'\n",
    "browser.visit(mtm_url_five)\n",
    "\n",
    "hemisphere_image_urls = []\n",
    "hemisphere = {}\n",
    "for x in range(len(hemi_titles)): \n",
    "#     hemisphere = {}\n",
    "    try:\n",
    "            browser.click_link_by_partial_text(hemi_titles[x])\n",
    "    except:\n",
    "            browser.find_link_by_text('2').first.click()\n",
    "            browser.click_link_by_partial_text(hemi_titles[x])\n",
    "        \n",
    "    sample_elem = browser.find_link_by_text('Sample').first\n",
    "    hemisphere['img_url'] = sample_elem['href']\n",
    "\n",
    "    hemisphere['title'] = browser.find_by_css(\"h2.title\").text\n",
    "\n",
    "    # Append hemisphere object to list\n",
    "    hemisphere_image_urls.append(hemisphere)\n",
    "   \n",
    "        \n"
   ]
  },
  {
   "cell_type": "code",
   "execution_count": 31,
   "metadata": {},
   "outputs": [
    {
     "data": {
      "text/plain": [
       "[{'img_url': 'https://astropedia.astrogeology.usgs.gov/download/Mars/Viking/valles_marineris_enhanced.tif/full.jpg',\n",
       "  'title': 'Valles Marineris Hemisphere Enhanced'},\n",
       " {'img_url': 'https://astropedia.astrogeology.usgs.gov/download/Mars/Viking/valles_marineris_enhanced.tif/full.jpg',\n",
       "  'title': 'Valles Marineris Hemisphere Enhanced'},\n",
       " {'img_url': 'https://astropedia.astrogeology.usgs.gov/download/Mars/Viking/valles_marineris_enhanced.tif/full.jpg',\n",
       "  'title': 'Valles Marineris Hemisphere Enhanced'},\n",
       " {'img_url': 'https://astropedia.astrogeology.usgs.gov/download/Mars/Viking/valles_marineris_enhanced.tif/full.jpg',\n",
       "  'title': 'Valles Marineris Hemisphere Enhanced'}]"
      ]
     },
     "execution_count": 31,
     "metadata": {},
     "output_type": "execute_result"
    }
   ],
   "source": [
    "hemisphere_image_urls"
   ]
  },
  {
   "cell_type": "code",
   "execution_count": null,
   "metadata": {},
   "outputs": [],
   "source": []
  }
 ],
 "metadata": {
  "kernelspec": {
   "display_name": "Python 3",
   "language": "python",
   "name": "python3"
  },
  "language_info": {
   "codemirror_mode": {
    "name": "ipython",
    "version": 3
   },
   "file_extension": ".py",
   "mimetype": "text/x-python",
   "name": "python",
   "nbconvert_exporter": "python",
   "pygments_lexer": "ipython3",
   "version": "3.7.4"
  }
 },
 "nbformat": 4,
 "nbformat_minor": 2
}
